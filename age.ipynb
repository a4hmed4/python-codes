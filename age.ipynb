{
 "cells": [
  {
   "cell_type": "code",
   "execution_count": 1,
   "id": "ab7d5f12",
   "metadata": {},
   "outputs": [
    {
     "name": "stdout",
     "output_type": "stream",
     "text": [
      "Please enter your Birth year: 2003\n",
      "your age is  19\n"
     ]
    }
   ],
   "source": [
    "birth = int(input(\"Please enter your Birth year: \"))\n",
    "age = 2022 - birth\n",
    "print(\"your age is \", age)"
   ]
  },
  {
   "cell_type": "code",
   "execution_count": 2,
   "id": "7eddc632",
   "metadata": {},
   "outputs": [
    {
     "name": "stdout",
     "output_type": "stream",
     "text": [
      "Enter number: 12\n",
      "The sum of Natural Number from 1 to  12 is:  78\n",
      "Average of Natural Number from 1 to  12 is:  6.5\n"
     ]
    }
   ],
   "source": [
    "n = int(input(\"Enter number: \"))\n",
    "sum = 0\n",
    "for num in range(1, n + 1, 1):\n",
    "    sum = sum + num\n",
    "print(\"The sum of Natural Number from 1 to \", n,\"is: \",sum)\n",
    "average = sum / n\n",
    "print(\"Average of Natural Number from 1 to \", n, \"is: \", average)"
   ]
  },
  {
   "cell_type": "code",
   "execution_count": 2,
   "id": "fa956f50",
   "metadata": {},
   "outputs": [
    {
     "name": "stdout",
     "output_type": "stream",
     "text": [
      "Enter any number 19\n",
      "19 is odd\n"
     ]
    }
   ],
   "source": [
    "num = int(input(\"Enter any number \"))\n",
    "if (num % 2) == 0:\n",
    "    print(f\"{num} is even\")\n",
    "else:\n"
   ]
  },
  {
   "cell_type": "code",
   "execution_count": null,
   "id": "85e2a789",
   "metadata": {},
   "outputs": [],
   "source": []
  }
 ],
 "metadata": {
  "kernelspec": {
   "display_name": "Python 3 (ipykernel)",
   "language": "python",
   "name": "python3"
  },
  "language_info": {
   "codemirror_mode": {
    "name": "ipython",
    "version": 3
   },
   "file_extension": ".py",
   "mimetype": "text/x-python",
   "name": "python",
   "nbconvert_exporter": "python",
   "pygments_lexer": "ipython3",
   "version": "3.11.4"
  }
 },
 "nbformat": 4,
 "nbformat_minor": 5
}
