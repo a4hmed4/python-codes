{
 "cells": [
  {
   "cell_type": "code",
   "execution_count": 18,
   "id": "8443e08a",
   "metadata": {},
   "outputs": [
    {
     "name": "stdout",
     "output_type": "stream",
     "text": [
      "search is successfull.\n"
     ]
    }
   ],
   "source": [
    "import re\n",
    "\n",
    "pattern = 'm|a'\n",
    "test_string = 'maaan'\n",
    "result = re.match(pattern, test_string)\n",
    "\n",
    "if result:\n",
    "    print(\"search is successfull.\")\n",
    "else:\n",
    "    print(\"search is unsuccessful.\")"
   ]
  },
  {
   "cell_type": "code",
   "execution_count": 19,
   "id": "4195a359",
   "metadata": {},
   "outputs": [
    {
     "name": "stdout",
     "output_type": "stream",
     "text": [
      "['Twelve:', ' Eighty nine:89 Nine:9.']\n"
     ]
    }
   ],
   "source": [
    "import re\n",
    "string = 'Twelve:12 Eighty nine:89 Nine:9.'\n",
    "pattern ='\\d+'\n",
    "\n",
    "result = re.split(pattern, string,1)\n",
    "print(result)"
   ]
  },
  {
   "cell_type": "code",
   "execution_count": 22,
   "id": "67f57837",
   "metadata": {},
   "outputs": [
    {
     "name": "stdout",
     "output_type": "stream",
     "text": [
      "Hw r u?\n",
      "Hi!\n",
      "r u ok?\n"
     ]
    }
   ],
   "source": [
    "def first(msg):\n",
    "    print(msg)\n",
    "    \n",
    "first(\"Hw r u?\")\n",
    "second = first\n",
    "second(\"Hi!\")\n",
    "third = second\n",
    "third(\"r u ok?\")"
   ]
  },
  {
   "cell_type": "code",
   "execution_count": null,
   "id": "ce141ff3",
   "metadata": {},
   "outputs": [],
   "source": []
  }
 ],
 "metadata": {
  "kernelspec": {
   "display_name": "Python 3 (ipykernel)",
   "language": "python",
   "name": "python3"
  },
  "language_info": {
   "codemirror_mode": {
    "name": "ipython",
    "version": 3
   },
   "file_extension": ".py",
   "mimetype": "text/x-python",
   "name": "python",
   "nbconvert_exporter": "python",
   "pygments_lexer": "ipython3",
   "version": "3.9.7"
  }
 },
 "nbformat": 4,
 "nbformat_minor": 5
}
