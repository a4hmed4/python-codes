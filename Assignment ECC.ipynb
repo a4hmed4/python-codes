{
 "cells": [
  {
   "cell_type": "markdown",
   "id": "a09834d2",
   "metadata": {},
   "source": [
    "# CSC312 - Computer Security and Cryptography\n",
    "\n",
    "### Assignment ECC"
   ]
  },
  {
   "cell_type": "markdown",
   "id": "eabee973",
   "metadata": {},
   "source": [
    "## Name: Almotasem malik\n",
    "\n",
    "### ID: 4211204\n",
    "\n",
    "#### SubGroup: B1"
   ]
  },
  {
   "cell_type": "markdown",
   "id": "34491ba2",
   "metadata": {},
   "source": [
    "--------------------------------------------------------------------------------"
   ]
  },
  {
   "cell_type": "markdown",
   "id": "7148ecf8",
   "metadata": {},
   "source": [
    "###### 1. Introduction to ECC: Provide a brief overview of Elliptic Curve Cryptography, explaining the underlying mathematics and its significance in modern cryptography "
   ]
  },
  {
   "cell_type": "raw",
   "id": "ee7b347d",
   "metadata": {},
   "source": [
    "* Elliptic Curve Cryptography (ECC) is a type of public-key cryptography that is based on the algebraic structure of elliptic curves over finite fields.\n",
    "\n",
    "* An elliptic curve consists of the points satisfying the equation:\n",
    "y2 = x3 + ax + b\n",
    "\n",
    "* The security of ECC relies on the difficulty of the Elliptic Curve Discrete Logarithm Problem (ECDLP). This means given two points P and Q on an elliptic curve, it is very difficult to find the integer k such that:\n",
    "Q = kP\n",
    "\n",
    "Where k is the discrete logarithm of Q to the base P.\n",
    "\n",
    "* Some benefits of ECC include:\n",
    "\n",
    "- Smaller key sizes - ECC can achieve the same security level as RSA encryption, but with much smaller key sizes. \n",
    "  A 256-bit ECC public key provides comparable security to a 3072-bit RSA public key.\n",
    "  This enables faster processing times and lower storage requirements.\n",
    "\n",
    "- Efficiency - ECC cryptographic calculations can be faster than other asymmetric algorithms like RSA and Diffie-Hellman. It requires less computing power for both encryption/decryption and digital signatures.\n",
    "\n",
    "Due to its security properties, performance, and lower resource requirements, ECC is well-suited for constrained environments like mobile devices and smart cards. It is employed in many security protocols including TLS, SSH, PGP, and cryptocurrencies like Bitcoin. Overall, ECC provides strong cryptographic security with high efficiency."
   ]
  },
  {
   "cell_type": "markdown",
   "id": "f541d7b5",
   "metadata": {},
   "source": [
    "### 2. Elliptic Curve Operations: Implement Python functions for the following ECC operations:\n",
    "    \n",
    "    a. Point Addition: Create a function add_points(P, Q, a, p) that takes two points P and Q on an elliptic curve with             parameters a and p and computes the sum P + Q.\n",
    "    \n",
    "    "
   ]
  },
  {
   "cell_type": "code",
   "execution_count": 56,
   "id": "146d2f23",
   "metadata": {},
   "outputs": [],
   "source": [
    "import ecpy\n",
    "from random import randint\n",
    "# Global curve parameters\n",
    "a = 1  \n",
    "b = 3 \n",
    "p = 223 # Elliptic curve modulus \n",
    "\n",
    "# Base point\n",
    "G = (5, 7)\n"
   ]
  },
  {
   "cell_type": "code",
   "execution_count": 57,
   "id": "3384811f",
   "metadata": {},
   "outputs": [],
   "source": [
    "#P: A point on the elliptic curve as a tuple (x, y).\n",
    "#Q: Another point on the elliptic curve as a tuple (x, y).\n",
    "#a: The curve parameter \"a\".\n",
    "#p: The prime field modulus.\n",
    "\n",
    "def add_points(P, Q, a, p):\n",
    "    x1, y1 = P\n",
    "    x2, y2 = Q\n",
    "    if P == Q:\n",
    "        return double_point(P, a, p)\n",
    "    elif x1 == x2 and (y1 + y2) % p == 0:\n",
    "        return None  # Point at infinity\n",
    "    else:\n",
    "        m = (y2 - y1) * pow(x2 - x1, -1, p) % p\n",
    "        x3 = (m**2 - x1 - x2) % p\n",
    "        y3 = (m * (x1 - x3) - y1) % p\n",
    "        return (x3, y3)\n"
   ]
  },
  {
   "cell_type": "markdown",
   "id": "ea7e4b70",
   "metadata": {},
   "source": [
    "    b. Point Doubling: Create a function double_point(P, a, p) that takes a point P on an elliptic curve with parameters           a and p and computes the point doubling 2P.\n",
    "  \n",
    "   "
   ]
  },
  {
   "cell_type": "code",
   "execution_count": 58,
   "id": "8e9d503a",
   "metadata": {},
   "outputs": [],
   "source": [
    "# P (tuple): A point (x, y) on the elliptic curve. \n",
    "# a (int): Coefficient of the elliptic curve.\n",
    "# p (int): Prime specifying the finite field.\n",
    "# Doubles a point P on an elliptic curve y^2 = x^3 + ax + b over a finite field of prime order p.\n",
    "\n",
    "def double_point(P, a, p):\n",
    "    if P == 0: \n",
    "        return P\n",
    "    \n",
    "    x1, y1 = P\n",
    "\n",
    "    lam = ((3 * (x1 ** 2)) + a) * pow(2 * y1, -1, p)\n",
    "    x3 = (lam ** 2 - 2 * x1) % p\n",
    "    y3 = (lam * (x1 - x3) - y1) % p\n",
    "\n",
    "    return (x3, y3)\n"
   ]
  },
  {
   "cell_type": "markdown",
   "id": "1897ec9e",
   "metadata": {},
   "source": [
    "    c. Scalar Multiplication: Implement a function scalar_multiply(k, P, a, p) that computes the scalar multiplication kP on an elliptic curve with parameters a and p"
   ]
  },
  {
   "cell_type": "code",
   "execution_count": 59,
   "id": "d7373f61",
   "metadata": {},
   "outputs": [],
   "source": [
    "# k (int): Scalar value to multiply.\n",
    "# P (tuple): A point (x, y) on the elliptic curve.\n",
    "# a (int): Coefficient of the elliptic curve. \n",
    "# p (int): Prime specifying the finite field.\n",
    "\n",
    "def scalar_multiply(k, P, a, p):    \n",
    "    R = 0\n",
    "    for i in bin(k)[2:]: \n",
    "        R = double_point(R, a, p)  \n",
    "        \n",
    "        if i == \"1\":\n",
    "            R = add_points(R, P, a, p)\n",
    "\n",
    "    return R"
   ]
  },
  {
   "cell_type": "markdown",
   "id": "8c04d2c8",
   "metadata": {},
   "source": [
    "    3. Key Generation: Implement a function generate_key_pair() that generates a public-private key pair using ECC. Display the generated keys."
   ]
  },
  {
   "cell_type": "code",
   "execution_count": 60,
   "id": "e9868e61",
   "metadata": {},
   "outputs": [],
   "source": [
    "def generate_key_pair():\n",
    "    priv_key = random.randint(1, p-1) \n",
    "    pub_key = scalar_multiply(priv_key, G, a, p)\n",
    "    print(\"Private key:\", priv_key)\n",
    "    print(\"Public key:\", pub_key)\n",
    "    return (priv_key, pub_key)"
   ]
  },
  {
   "cell_type": "markdown",
   "id": "a67674bf",
   "metadata": {},
   "source": [
    "    4. Key Exchange: Implement a simple key exchange protocol using ECC. Create functions sender_key_exchange(private_key, base_point, a, p) and receiver_key_exchange(public_key, received_point, a, p) to demonstrate key exchange."
   ]
  },
  {
   "cell_type": "code",
   "execution_count": 61,
   "id": "dbf73411",
   "metadata": {},
   "outputs": [],
   "source": [
    "def sender_key_exchange(private_key, base_point, a, p):\n",
    "    shared_secret = scalar_multiply(private_key, base_point, a, p)\n",
    "    return shared_secret\n",
    "\n",
    "def receiver_key_exchange(public_key, received_point, a, p):\n",
    "    shared_secret = scalar_multiply(private_key, public_key, a, p) \n",
    "    return shared_secret"
   ]
  },
  {
   "cell_type": "markdown",
   "id": "8077e166",
   "metadata": {},
   "source": [
    "    5. Digital Signature: Implement a basic digital signature scheme using ECC. Create functions sign_message(message, private_key, base_point, a, p) and verify_signature(message, signature, public_key, base_point, a, p)."
   ]
  },
  {
   "cell_type": "code",
   "execution_count": 62,
   "id": "96369e44",
   "metadata": {},
   "outputs": [],
   "source": [
    "def sign_message(message, private_key, base_point, a, p):\n",
    "    hash_val = int(hashlib.sha256(message.encode()).hexdigest(), 16)\n",
    "    signature = scalar_multiply(private_key, base_point, a, p)\n",
    "    return signature\n",
    "    \n",
    "def verify_signature(message, signature, public_key, base_point, a, p):\n",
    "    hash_val = int(hashlib.sha256(message.encode()).hexdigest(), 16) \n",
    "    verified = scalar_multiply(hash_val, base_point, a, p)\n",
    "    return verified == signature"
   ]
  },
  {
   "cell_type": "markdown",
   "id": "a2393acb",
   "metadata": {},
   "source": [
    "    6. Testing: Write test cases to ensure the correctness of your ECC operations, key generation, key exchange, and digital signature functions"
   ]
  },
  {
   "cell_type": "code",
   "execution_count": 66,
   "id": "5a3ca8a4",
   "metadata": {},
   "outputs": [
    {
     "name": "stderr",
     "output_type": "stream",
     "text": [
      "E\n",
      "======================================================================\n",
      "ERROR: C:\\Users\\user\\AppData\\Roaming\\jupyter\\runtime\\kernel-d675acb0-bfd4-4406-bbb1-9121c46f9787 (unittest.loader._FailedTest.C:\\Users\\user\\AppData\\Roaming\\jupyter\\runtime\\kernel-d675acb0-bfd4-4406-bbb1-9121c46f9787)\n",
      "----------------------------------------------------------------------\n",
      "AttributeError: module '__main__' has no attribute 'C:\\Users\\user\\AppData\\Roaming\\jupyter\\runtime\\kernel-d675acb0-bfd4-4406-bbb1-9121c46f9787'\n",
      "\n",
      "----------------------------------------------------------------------\n",
      "Ran 1 test in 0.001s\n",
      "\n",
      "FAILED (errors=1)\n"
     ]
    },
    {
     "ename": "SystemExit",
     "evalue": "True",
     "output_type": "error",
     "traceback": [
      "An exception has occurred, use %tb to see the full traceback.\n",
      "\u001b[1;31mSystemExit\u001b[0m\u001b[1;31m:\u001b[0m True\n"
     ]
    },
    {
     "name": "stderr",
     "output_type": "stream",
     "text": [
      "C:\\Users\\user\\AppData\\Roaming\\Python\\Python311\\site-packages\\IPython\\core\\interactiveshell.py:3534: UserWarning: To exit: use 'exit', 'quit', or Ctrl-D.\n",
      "  warn(\"To exit: use 'exit', 'quit', or Ctrl-D.\", stacklevel=1)\n"
     ]
    }
   ],
   "source": [
    "import unittest\n",
    "\n",
    "class ECCTest(unittest.TestCase):\n",
    "\n",
    "    def add_points(self):\n",
    "        P = (1, 2)\n",
    "        Q = (3, 4)\n",
    "        R = (4, 5)\n",
    "        sum = add_points(P, Q, a, p)\n",
    "        self.assertEqual(sum, R)\n",
    "\n",
    "        P = (100, 200) \n",
    "        Q = (100, 300) \n",
    "        R = O   \n",
    "        sum = add_points(P, Q, a, p)\n",
    "        self.assertEqual(sum, R)  \n",
    "\n",
    "    def double_point(self):\n",
    "        P = (2, 5)\n",
    "        R = (112, 32)\n",
    "        doubled = double_point(P, a, p)  \n",
    "        self.assertEqual(doubled, R)\n",
    "\n",
    "    def scalar_multiply(self):\n",
    "        d = 123  \n",
    "        P = (100, 300)\n",
    "        expected = (13, 193)\n",
    "        R = scalar_multiply(d, P, a, p)\n",
    "        self.assertEqual(R, expected)\n",
    "\n",
    "    def generate_key_pair(self):\n",
    "        priv, pub = generate_key_pair()\n",
    "        self.assertTrue(1 <= priv <= p-1) \n",
    "        res = scalar_multiply(priv, G, a, p)\n",
    "        self.assertEqual(res, pub)\n",
    "\n",
    "    # And so on for other functions\n",
    "    \n",
    "if __name__ == '__main__':\n",
    "    unittest.main()"
   ]
  },
  {
   "cell_type": "markdown",
   "id": "7fa38e2b",
   "metadata": {},
   "source": [
    "**8. Discussion:**\n",
    "   \n",
    "   a. Discuss the advantages of ECC over other cryptographic techniques.\n",
    "   \n"
   ]
  },
  {
   "cell_type": "markdown",
   "id": "dd0a1c35",
   "metadata": {},
   "source": [
    "### a. Advantages of ECC over Other Cryptographic Techniques:\n",
    "\n",
    "1. **Key Size and Computational Efficiency:**\n",
    "   - ECC offers the same level of security with much smaller key sizes compared to traditional cryptographic techniques like RSA. Smaller key sizes result in faster computations, reduced bandwidth usage, and less storage requirements.\n",
    "   - This is particularly beneficial in resource-constrained environments such as mobile devices and IoT devices where computational resources are limited.\n",
    "\n",
    "2. **Bandwidth and Storage Efficiency:**\n",
    "   - Smaller key sizes in ECC lead to shorter cryptographic messages, making it more bandwidth-efficient. This is crucial for applications like secure communication over networks, where minimizing data transfer is desirable.\n",
    "\n",
    "3. **Faster Encryption and Decryption:**\n",
    "   - ECC operations, such as key generation, encryption, and decryption, generally require fewer computational resources compared to algorithms like RSA. This results in faster cryptographic operations.\n",
    "\n",
    "4. **Secure for the Foreseeable Future:**\n",
    "   - ECC provides the same level of security as traditional methods but with smaller key sizes, making it more resistant to certain types of attacks. As computational power increases, ECC remains a viable option for secure communications.\n",
    "\n",
    "5. **Perfect Forward Secrecy:**\n",
    "   - ECC supports Perfect Forward Secrecy (PFS), ensuring that even if a long-term private key is compromised, past communications remain secure. This is crucial for maintaining the confidentiality of historical data.\n",
    "\n",
    "6. **Lower Resource Usage:**\n",
    "   - ECC algorithms require fewer computational resources in terms of both processing power and memory. This is advantageous in scenarios where resources are limited, such as in embedded systems or devices with low power consumption requirements.\n"
   ]
  },
  {
   "cell_type": "markdown",
   "id": "1ea24285",
   "metadata": {},
   "source": [
    "------------------------------------------"
   ]
  },
  {
   "cell_type": "markdown",
   "id": "85ddd8ae",
   "metadata": {},
   "source": [
    "   b. Highlight the efficiency and security aspects of ECC, especially in comparison to traditional methods."
   ]
  },
  {
   "cell_type": "markdown",
   "id": "1182110b",
   "metadata": {},
   "source": [
    "\n",
    "### b. Efficiency and Security Aspects of ECC:\n",
    "\n",
    "1. **Computational Efficiency:**\n",
    "   - ECC operations, including key generation, encryption, and decryption, are computationally more efficient than their counterparts in traditional cryptographic algorithms. This efficiency is crucial in real-time applications and environments with limited processing capabilities.\n",
    "\n",
    "2. **Reduced Storage Requirements:**\n",
    "   - Smaller key sizes in ECC result in reduced storage requirements for keys. This is particularly important in scenarios where storage capacity is at a premium, such as in embedded systems, smart cards, and mobile devices.\n",
    "\n",
    "3. **Resistance to Quantum Attacks:**\n",
    "   - ECC is believed to be more resistant to quantum attacks compared to certain traditional cryptographic algorithms. Quantum computers could potentially break widely-used algorithms like RSA, but ECC algorithms have shown resilience against quantum attacks with the use of appropriate key sizes and algorithms.\n",
    "\n",
    "4. **Security Strength vs. Key Size:**\n",
    "   - ECC allows achieving a high level of security with relatively smaller key sizes compared to traditional methods. This is significant in environments where both security and efficiency are paramount.\n",
    "\n",
    "5. **Key Exchange in Secure Communication:**\n",
    "   - ECC-based key exchange protocols, such as Elliptic Curve Diffie-Hellman (ECDH), provide a secure way for parties to agree on a shared secret without compromising the private keys. This is crucial for establishing secure communication channels.\n",
    "\n",
    "6. **Global Standardization:**\n",
    "   - ECC is widely standardized and used in various security protocols and standards. This global acceptance contributes to its reliability and interoperability in different applications and systems.\n",
    "\n"
   ]
  }
 ],
 "metadata": {
  "kernelspec": {
   "display_name": "Python 3 (ipykernel)",
   "language": "python",
   "name": "python3"
  },
  "language_info": {
   "codemirror_mode": {
    "name": "ipython",
    "version": 3
   },
   "file_extension": ".py",
   "mimetype": "text/x-python",
   "name": "python",
   "nbconvert_exporter": "python",
   "pygments_lexer": "ipython3",
   "version": "3.11.5"
  }
 },
 "nbformat": 4,
 "nbformat_minor": 5
}
