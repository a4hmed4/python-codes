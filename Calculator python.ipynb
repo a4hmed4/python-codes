{
 "cells": [
  {
   "cell_type": "code",
   "execution_count": 9,
   "id": "f060d7f7",
   "metadata": {},
   "outputs": [
    {
     "name": "stdout",
     "output_type": "stream",
     "text": [
      "1/Add\n",
      "2/Subtract\n",
      "3/Multiply\n",
      "4/Divide\n",
      "2\n",
      "Enter first number: 12\n",
      "Enter second number: 12\n",
      "0.0\n",
      "Do you Want to calc again (yes/no): yes\n",
      "1/Add\n",
      "2/Subtract\n",
      "3/Multiply\n",
      "4/Divide\n",
      "4\n",
      "Enter first number: 1\n",
      "Enter second number: 2\n",
      "0.5\n",
      "Do you Want to calc again (yes/no): no\n"
     ]
    }
   ],
   "source": [
    "def add(x, y):\n",
    "    return x + y\n",
    "\n",
    "def subtract(x, y):\n",
    "    return x - y\n",
    "\n",
    "def multiply(x, y):\n",
    "    return x * y\n",
    "\n",
    "def divide(x, y):\n",
    "    return x / y\n",
    "\n",
    "while True:\n",
    "    print(\"1/Add\")\n",
    "    print(\"2/Subtract\")\n",
    "    print(\"3/Multiply\")\n",
    "    print(\"4/Divide\")\n",
    "\n",
    "    choice = input()\n",
    "\n",
    "    if choice in ('1', '2', '3', '4'):\n",
    "        num1 = float(input(\"Enter first number: \"))\n",
    "        num2 = float(input(\"Enter second number: \"))\n",
    "\n",
    "        if choice == '1':\n",
    "            print(add(num1, num2))\n",
    "\n",
    "        elif choice == '2':\n",
    "            print(subtract(num1, num2))\n",
    "\n",
    "        elif choice == '3':\n",
    "            print(multiply(num1, num2))\n",
    "\n",
    "        elif choice == '4':\n",
    "            print(divide(num1, num2))\n",
    "        \n",
    "\n",
    "        next_calculation = input(\"Do you Want to calc again (yes/no): \")\n",
    "        if next_calculation == \"no\":\n",
    "          break\n",
    "    \n",
    "    else:\n",
    "        print(\"Invalid Input\")"
   ]
  },
  {
   "cell_type": "code",
   "execution_count": null,
   "id": "8733f722",
   "metadata": {},
   "outputs": [],
   "source": []
  }
 ],
 "metadata": {
  "kernelspec": {
   "display_name": "Python 3 (ipykernel)",
   "language": "python",
   "name": "python3"
  },
  "language_info": {
   "codemirror_mode": {
    "name": "ipython",
    "version": 3
   },
   "file_extension": ".py",
   "mimetype": "text/x-python",
   "name": "python",
   "nbconvert_exporter": "python",
   "pygments_lexer": "ipython3",
   "version": "3.9.7"
  }
 },
 "nbformat": 4,
 "nbformat_minor": 5
}
